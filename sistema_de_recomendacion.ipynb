{
 "cells": [
  {
   "cell_type": "markdown",
   "metadata": {},
   "source": [
    "# Sistema de recomendación"
   ]
  },
  {
   "cell_type": "markdown",
   "metadata": {},
   "source": [
    "Librerías necesarias"
   ]
  },
  {
   "cell_type": "code",
   "execution_count": 1,
   "metadata": {},
   "outputs": [],
   "source": [
    "import pandas as pd\n",
    "import numpy as np\n",
    "from sklearn.feature_extraction.text import TfidfVectorizer\n",
    "from sklearn.metrics.pairwise import cosine_similarity\n",
    "from sklearn.preprocessing import StandardScaler, OneHotEncoder\n",
    "from scipy.sparse import csr_matrix"
   ]
  },
  {
   "cell_type": "markdown",
   "metadata": {},
   "source": [
    "Creo un Dataframe con las columnas que utilizaré para el sistema"
   ]
  },
  {
   "cell_type": "code",
   "execution_count": 2,
   "metadata": {},
   "outputs": [
    {
     "data": {
      "text/html": [
       "<div>\n",
       "<style scoped>\n",
       "    .dataframe tbody tr th:only-of-type {\n",
       "        vertical-align: middle;\n",
       "    }\n",
       "\n",
       "    .dataframe tbody tr th {\n",
       "        vertical-align: top;\n",
       "    }\n",
       "\n",
       "    .dataframe thead th {\n",
       "        text-align: right;\n",
       "    }\n",
       "</style>\n",
       "<table border=\"1\" class=\"dataframe\">\n",
       "  <thead>\n",
       "    <tr style=\"text-align: right;\">\n",
       "      <th></th>\n",
       "      <th>original_language</th>\n",
       "      <th>vote_average</th>\n",
       "      <th>release_year</th>\n",
       "    </tr>\n",
       "  </thead>\n",
       "  <tbody>\n",
       "    <tr>\n",
       "      <th>0</th>\n",
       "      <td>en</td>\n",
       "      <td>7.7</td>\n",
       "      <td>1995</td>\n",
       "    </tr>\n",
       "    <tr>\n",
       "      <th>1</th>\n",
       "      <td>en</td>\n",
       "      <td>6.9</td>\n",
       "      <td>1995</td>\n",
       "    </tr>\n",
       "    <tr>\n",
       "      <th>2</th>\n",
       "      <td>en</td>\n",
       "      <td>6.5</td>\n",
       "      <td>1995</td>\n",
       "    </tr>\n",
       "    <tr>\n",
       "      <th>3</th>\n",
       "      <td>en</td>\n",
       "      <td>6.1</td>\n",
       "      <td>1995</td>\n",
       "    </tr>\n",
       "    <tr>\n",
       "      <th>4</th>\n",
       "      <td>en</td>\n",
       "      <td>5.7</td>\n",
       "      <td>1995</td>\n",
       "    </tr>\n",
       "    <tr>\n",
       "      <th>...</th>\n",
       "      <td>...</td>\n",
       "      <td>...</td>\n",
       "      <td>...</td>\n",
       "    </tr>\n",
       "    <tr>\n",
       "      <th>45371</th>\n",
       "      <td>en</td>\n",
       "      <td>5.7</td>\n",
       "      <td>1991</td>\n",
       "    </tr>\n",
       "    <tr>\n",
       "      <th>45372</th>\n",
       "      <td>tl</td>\n",
       "      <td>9.0</td>\n",
       "      <td>2011</td>\n",
       "    </tr>\n",
       "    <tr>\n",
       "      <th>45373</th>\n",
       "      <td>en</td>\n",
       "      <td>3.8</td>\n",
       "      <td>2003</td>\n",
       "    </tr>\n",
       "    <tr>\n",
       "      <th>45374</th>\n",
       "      <td>en</td>\n",
       "      <td>0.0</td>\n",
       "      <td>1917</td>\n",
       "    </tr>\n",
       "    <tr>\n",
       "      <th>45375</th>\n",
       "      <td>en</td>\n",
       "      <td>0.0</td>\n",
       "      <td>2017</td>\n",
       "    </tr>\n",
       "  </tbody>\n",
       "</table>\n",
       "<p>45376 rows × 3 columns</p>\n",
       "</div>"
      ],
      "text/plain": [
       "      original_language  vote_average  release_year\n",
       "0                    en           7.7          1995\n",
       "1                    en           6.9          1995\n",
       "2                    en           6.5          1995\n",
       "3                    en           6.1          1995\n",
       "4                    en           5.7          1995\n",
       "...                 ...           ...           ...\n",
       "45371                en           5.7          1991\n",
       "45372                tl           9.0          2011\n",
       "45373                en           3.8          2003\n",
       "45374                en           0.0          1917\n",
       "45375                en           0.0          2017\n",
       "\n",
       "[45376 rows x 3 columns]"
      ]
     },
     "execution_count": 2,
     "metadata": {},
     "output_type": "execute_result"
    }
   ],
   "source": [
    "df_movies = pd.read_csv(\"Movies_ETL.csv\")\n",
    "df_movies_sistema = df_movies[[\"original_language\", \"vote_average\", \"release_year\"]]\n",
    "df_movies_sistema"
   ]
  },
  {
   "cell_type": "markdown",
   "metadata": {},
   "source": [
    "Realizo un One-Hot-Encoding para la columna original_language"
   ]
  },
  {
   "cell_type": "code",
   "execution_count": 3,
   "metadata": {},
   "outputs": [],
   "source": [
    "encoder = OneHotEncoder(sparse_output=False)\n",
    "encoded_lang = encoder.fit_transform(df_movies_sistema[['original_language']])"
   ]
  },
  {
   "cell_type": "markdown",
   "metadata": {},
   "source": [
    "Normalizo vote_average y release_year"
   ]
  },
  {
   "cell_type": "code",
   "execution_count": 4,
   "metadata": {},
   "outputs": [],
   "source": [
    "scaler = StandardScaler()\n",
    "caracteristicas_escaladas = scaler.fit_transform(df_movies_sistema[[\"vote_average\", \"release_year\"]])"
   ]
  },
  {
   "cell_type": "markdown",
   "metadata": {},
   "source": [
    "Combino todas las características"
   ]
  },
  {
   "cell_type": "code",
   "execution_count": 5,
   "metadata": {},
   "outputs": [
    {
     "data": {
      "text/plain": [
       "array([[ 0.        ,  0.        ,  0.        , ...,  0.        ,\n",
       "         1.08380937,  0.12965267],\n",
       "       [ 0.        ,  0.        ,  0.        , ...,  0.        ,\n",
       "         0.66614235,  0.12965267],\n",
       "       [ 0.        ,  0.        ,  0.        , ...,  0.        ,\n",
       "         0.45730884,  0.12965267],\n",
       "       ...,\n",
       "       [ 0.        ,  0.        ,  0.        , ...,  0.        ,\n",
       "        -0.95231735,  0.46222255],\n",
       "       [ 0.        ,  0.        ,  0.        , ...,  0.        ,\n",
       "        -2.93623569, -3.11290368],\n",
       "       [ 0.        ,  0.        ,  0.        , ...,  0.        ,\n",
       "        -2.93623569,  1.04421985]])"
      ]
     },
     "execution_count": 5,
     "metadata": {},
     "output_type": "execute_result"
    }
   ],
   "source": [
    "caracteristicas = np.hstack([encoded_lang, caracteristicas_escaladas])\n",
    "caracteristicas"
   ]
  },
  {
   "cell_type": "markdown",
   "metadata": {},
   "source": [
    "Utilizo el cosine_similarity como modelo"
   ]
  },
  {
   "cell_type": "code",
   "execution_count": 6,
   "metadata": {},
   "outputs": [],
   "source": [
    "coseno_sim = cosine_similarity(caracteristicas[:10000, ::])"
   ]
  },
  {
   "cell_type": "code",
   "execution_count": 7,
   "metadata": {},
   "outputs": [],
   "source": [
    "# Creo un mapeo entre títulos y sus índices\n",
    "title_to_index = pd.Series(df_movies.index, index=df_movies['title']).to_dict()\n",
    "\n",
    "def recomendar_peliculas(titulo, top_n=5):\n",
    "    if titulo not in title_to_index:\n",
    "        return \"Título no encontrado en el dataset.\"\n",
    "    \n",
    "    idx = title_to_index[titulo]\n",
    "    sim_scores = list(enumerate(coseno_sim[idx]))\n",
    "    \n",
    "    # Se ordenan las películas basadas en la similitud\n",
    "    sim_scores = sorted(sim_scores, key=lambda x: x[1], reverse=True)\n",
    "    \n",
    "    # Se obtienen las puntuaciones de las top_n películas\n",
    "    sim_scores = sim_scores[1:top_n+1]  # Excluyendo el propio título\n",
    "    movie_indices = [i[0] for i in sim_scores]\n",
    "    \n",
    "    # Se obtienen los títulos de las películas recomendadas\n",
    "    recomendadas = df_movies['title'].iloc[movie_indices].tolist()\n",
    "    \n",
    "    return recomendadas\n"
   ]
  },
  {
   "cell_type": "code",
   "execution_count": 8,
   "metadata": {},
   "outputs": [
    {
     "name": "stdout",
     "output_type": "stream",
     "text": [
      "Películas recomendadas para 'Toy Story':\n",
      "['Heat', 'Braveheart', 'Before Sunrise', 'Institute Benjamenta, or This Dream People Call Human Life', 'Heavy']\n"
     ]
    }
   ],
   "source": [
    "# Ejemplo de uso\n",
    "titulo_pelicula = \"Toy Story\"  # Reemplaza con el título deseado\n",
    "peliculas_recomendadas = recomendar_peliculas(titulo_pelicula)\n",
    "print(f\"Películas recomendadas para '{titulo_pelicula}':\")\n",
    "print(peliculas_recomendadas)"
   ]
  }
 ],
 "metadata": {
  "kernelspec": {
   "display_name": "proyecto-api",
   "language": "python",
   "name": "python3"
  },
  "language_info": {
   "codemirror_mode": {
    "name": "ipython",
    "version": 3
   },
   "file_extension": ".py",
   "mimetype": "text/x-python",
   "name": "python",
   "nbconvert_exporter": "python",
   "pygments_lexer": "ipython3",
   "version": "3.10.11"
  }
 },
 "nbformat": 4,
 "nbformat_minor": 2
}
